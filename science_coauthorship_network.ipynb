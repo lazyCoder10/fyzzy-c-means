{
 "cells": [
  {
   "cell_type": "markdown",
   "id": "e647c161-7982-415b-a677-01b263a3246d",
   "metadata": {},
   "source": [
    "Jupyter Notebook for coauthorship network of scientists working on network theory and experiment"
   ]
  },
  {
   "cell_type": "code",
   "execution_count": 1,
   "id": "10a7ddb4-a8e0-4f86-9ba6-67898d16f6f4",
   "metadata": {},
   "outputs": [
    {
     "name": "stderr",
     "output_type": "stream",
     "text": [
      "/Users/ashfak/venv-metal/lib/python3.9/site-packages/urllib3/__init__.py:35: NotOpenSSLWarning: urllib3 v2 only supports OpenSSL 1.1.1+, currently the 'ssl' module is compiled with 'LibreSSL 2.8.3'. See: https://github.com/urllib3/urllib3/issues/3020\n",
      "  warnings.warn(\n"
     ]
    }
   ],
   "source": [
    "import tensorflow as tf\n",
    "from tensorflow import keras\n",
    "from tensorflow.keras import Input, Model, layers\n",
    "from tensorflow.keras.optimizers import Adam\n",
    "from tensorflow.keras.layers import Dense, Activation, Dropout, BatchNormalization\n",
    "from sklearn.preprocessing import StandardScaler\n",
    "import skfuzzy as fuzz\n",
    "from copy import deepcopy\n",
    "import json\n",
    "import numpy as np\n",
    "from scipy.linalg import fractional_matrix_power\n",
    "import matplotlib.pyplot as plt\n",
    "import pickle\n",
    "import networkx as nx\n",
    "import os"
   ]
  },
  {
   "cell_type": "markdown",
   "id": "7cbec8e7-f3ed-46f9-9f3b-5a5679ac29ed",
   "metadata": {},
   "source": [
    "Import  Network and feature matrix creation"
   ]
  },
  {
   "cell_type": "code",
   "execution_count": 2,
   "id": "8d786c60-84a2-415c-828b-2108bc09a97f",
   "metadata": {},
   "outputs": [
    {
     "name": "stdout",
     "output_type": "stream",
     "text": [
      "['ABRAMSON, G' 'KUPERMAN, M' 'ACEBRON, J' ... 'HUANG, Z' 'ZHU, J'\n",
      " 'ZIMMERMANN, M']\n"
     ]
    }
   ],
   "source": [
    "# Create the graph (example using networkx)\n",
    "G = nx.read_gml('netscience.gml')  # Load the Dolphin network if available or replace with appropriate graph loading method\n",
    "node_names = np.array(list(G.nodes()))\n",
    "print(node_names)\n",
    "# Adjacency matrix\n",
    "A = nx.adjacency_matrix(G).toarray()\n",
    "\n",
    "# Adding self-loops\n",
    "A = A + np.eye(G.number_of_nodes())\n",
    "\n",
    "# Degree matrix\n",
    "D = np.diag(np.sum(A, axis=1))\n",
    "\n",
    "# Compute D^-0.5\n",
    "D_half_norm = fractional_matrix_power(D, -0.5)\n",
    "\n",
    "# Feature matrix initialization (simple identity matrix in this example)\n",
    "E = np.eye(G.number_of_nodes())\n",
    "C = np.eye(G.number_of_nodes())  # This is just a placeholder, replace or modify as per actual features\n",
    "X = np.concatenate((E, C), axis=1)\n",
    "\n",
    "# Graph convolution operation\n",
    "X = D_half_norm.dot(A).dot(D_half_norm).dot(X)"
   ]
  },
  {
   "cell_type": "markdown",
   "id": "df64cbe5-e9c2-4e04-9821-ec94b1fe0f69",
   "metadata": {},
   "source": [
    "Define the variational autoencoder"
   ]
  },
  {
   "cell_type": "code",
   "execution_count": 3,
   "id": "7ca015ab-064b-49d4-872d-49048880819e",
   "metadata": {},
   "outputs": [],
   "source": [
    "class VAE(keras.Model):\n",
    "    def __init__(self, encoder, decoder, A, **kwargs):\n",
    "        super(VAE, self).__init__(**kwargs)\n",
    "        self.encoder = encoder\n",
    "        self.decoder = decoder\n",
    "        self.A = A\n",
    "        self.total_loss_tracker = keras.metrics.Mean(name=\"total_loss\")\n",
    "        self.reconstruction_loss_tracker = keras.metrics.Mean(\n",
    "            name=\"reconstruction_loss\"\n",
    "        )\n",
    "        self.kl_loss_tracker = keras.metrics.Mean(name=\"kl_loss\")\n",
    "        self.architecture_loss_tracker = keras.metrics.Mean(\n",
    "            name=\"architecture_loss\"\n",
    "        )\n",
    "\n",
    "    def call(self, inputs):\n",
    "      mean, log_var, x = self.encoder(inputs)\n",
    "      x = self.decoder(x)\n",
    "      return x\n",
    "\n",
    "    @property\n",
    "    def metrics(self):\n",
    "        return [\n",
    "            self.total_loss_tracker,\n",
    "            self.reconstruction_loss_tracker,\n",
    "            self.kl_loss_tracker,\n",
    "            self.architecture_loss_tracker\n",
    "        ]\n",
    "    def predict(self, data):\n",
    "       z_mean, z_log_var, z = self.encoder(data)\n",
    "       output = self.decoder(z)\n",
    "       return output\n",
    "\n",
    "    def train_step(self, data):\n",
    "        with tf.GradientTape() as tape:\n",
    "            z_mean, z_log_var, z = self.encoder(data)\n",
    "            reconstruction = self.decoder(z)\n",
    "            #reconstruction_loss = tf.reduce_mean(\n",
    "            #    tf.reduce_sum(\n",
    "            #        keras.losses.mean_absolute_error(data, reconstruction), axis=(1, 2)\n",
    "            #    )\n",
    "            #)\n",
    "            reconstruction_loss = tf.reduce_mean(tf.reduce_sum(tf.square(data-reconstruction), axis=(1)))\n",
    "            kl_loss = -0.5 * (1 + z_log_var - tf.square(z_mean) - tf.exp(z_log_var))\n",
    "            kl_loss = tf.reduce_mean(tf.reduce_sum(kl_loss, axis=1))\n",
    "            architecture_loss = tf.reduce_mean(tf.square(self.A - tf.matmul(z,z,transpose_b=True)))\n",
    "            total_loss = reconstruction_loss + kl_loss + architecture_loss\n",
    "        grads = tape.gradient(total_loss, self.trainable_weights)\n",
    "        self.optimizer.apply_gradients(zip(grads, self.trainable_weights))\n",
    "        self.total_loss_tracker.update_state(total_loss)\n",
    "        self.reconstruction_loss_tracker.update_state(reconstruction_loss)\n",
    "        self.kl_loss_tracker.update_state(kl_loss)\n",
    "        self.architecture_loss_tracker.update_state(architecture_loss)\n",
    "        return {\n",
    "            \"loss\": self.total_loss_tracker.result(),\n",
    "            \"reconstruction_loss\": self.reconstruction_loss_tracker.result(),\n",
    "            \"kl_loss\": self.kl_loss_tracker.result(),\n",
    "            \"architecture_loss\": self.architecture_loss_tracker.result()\n",
    "        }"
   ]
  },
  {
   "cell_type": "markdown",
   "id": "ee53ac25-218f-4bb3-b43b-439aaf0294ee",
   "metadata": {},
   "source": [
    "Define hyperparameters"
   ]
  },
  {
   "cell_type": "code",
   "execution_count": 4,
   "id": "0aa5bbc0-b2bb-4768-8d59-f9ba640bc033",
   "metadata": {},
   "outputs": [
    {
     "name": "stderr",
     "output_type": "stream",
     "text": [
      "2024-04-21 02:30:51.882605: I metal_plugin/src/device/metal_device.cc:1154] Metal device set to: Apple M1 Pro\n",
      "2024-04-21 02:30:51.882701: I metal_plugin/src/device/metal_device.cc:296] systemMemory: 16.00 GB\n",
      "2024-04-21 02:30:51.882724: I metal_plugin/src/device/metal_device.cc:313] maxCacheSize: 5.33 GB\n",
      "2024-04-21 02:30:51.882769: I tensorflow/core/common_runtime/pluggable_device/pluggable_device_factory.cc:305] Could not identify NUMA node of platform GPU ID 0, defaulting to 0. Your kernel may not have been built with NUMA support.\n",
      "2024-04-21 02:30:51.882793: I tensorflow/core/common_runtime/pluggable_device/pluggable_device_factory.cc:271] Created TensorFlow device (/job:localhost/replica:0/task:0/device:GPU:0 with 0 MB memory) -> physical PluggableDevice (device: 0, name: METAL, pci bus id: <undefined>)\n"
     ]
    }
   ],
   "source": [
    "nFeatures = X.shape[1]\n",
    "nEmbeddings = 2\n",
    "nEpochs = 8000\n",
    "learningRate = 0.001\n",
    "optimizer = Adam(learningRate)\n",
    "batchSize = X.shape[0]"
   ]
  },
  {
   "cell_type": "markdown",
   "id": "f96ed9e7-b870-4a6b-9f2d-57883f20a0c6",
   "metadata": {},
   "source": [
    "Process feature matrix"
   ]
  },
  {
   "cell_type": "code",
   "execution_count": 5,
   "id": "e0a6b8b9-49be-424b-ae04-0cc979457af1",
   "metadata": {},
   "outputs": [],
   "source": [
    "scaler = StandardScaler()\n",
    "scaledX = scaler.fit_transform(X)"
   ]
  },
  {
   "cell_type": "markdown",
   "id": "db49ff1e-d67f-4038-b5ef-4633b8596105",
   "metadata": {},
   "source": [
    "Define VAE's architecture"
   ]
  },
  {
   "cell_type": "code",
   "execution_count": 6,
   "id": "d62df1bd-4214-4198-940e-6938da186f6f",
   "metadata": {},
   "outputs": [
    {
     "name": "stdout",
     "output_type": "stream",
     "text": [
      "3178\n"
     ]
    }
   ],
   "source": [
    "class Sampling(layers.Layer):\n",
    "    \"\"\"Uses (z_mean, z_log_var) to sample z, the vector encoding a digit.\"\"\"\n",
    "\n",
    "    def call(self, inputs):\n",
    "        z_mean, z_log_var = inputs\n",
    "        batch = tf.shape(z_mean)[0]\n",
    "        dim = tf.shape(z_mean)[1]\n",
    "        epsilon = tf.keras.backend.random_normal(shape=(batch, dim))\n",
    "        return z_mean + tf.exp(0.5 * z_log_var) * epsilon\n",
    "\n",
    "print(nFeatures)\n",
    "input_encoder = Input(shape=(nFeatures, ))\n",
    "nNeurons = nFeatures // 2\n",
    "x = Dense(nNeurons, activation='tanh')(input_encoder)\n",
    "nNeurons = nNeurons // 2\n",
    "while(nNeurons >= nEmbeddings * 2):\n",
    "  x = Dense(nNeurons, activation='tanh')(x)\n",
    "  nNeurons = nNeurons // 2\n",
    "z_mean = Dense(nEmbeddings, name=\"z_mean\")(x)\n",
    "z_log_var = Dense(nEmbeddings, name=\"z_log_var\")(x)\n",
    "z = Sampling()([z_mean, z_log_var])\n",
    "\n",
    "input_decoder = Input(shape=(nEmbeddings, ))\n",
    "nNeurons = nEmbeddings * 2\n",
    "x = Dense(nNeurons, activation='tanh')(input_decoder)\n",
    "nNeurons = nNeurons * 2\n",
    "while(nNeurons <= nFeatures // 2):\n",
    "  x = Dense(nNeurons, activation='tanh')(x)\n",
    "  nNeurons = nNeurons * 2\n",
    "recon = Dense(nFeatures)(x)\n",
    "encoder = Model(input_encoder, [z_mean, z_log_var, z], name=\"encoder\")\n",
    "decoder = Model(input_decoder, recon, name=\"decoder\")\n",
    "vae = VAE(encoder, decoder, A)\n",
    "vae.compile(optimizer=optimizer)\n",
    "vae.built = True"
   ]
  },
  {
   "cell_type": "code",
   "execution_count": 7,
   "id": "c61d8ace-9c67-4e14-a878-0fb784e983ce",
   "metadata": {},
   "outputs": [
    {
     "data": {
      "text/html": [
       "<pre style=\"white-space:pre;overflow-x:auto;line-height:normal;font-family:Menlo,'DejaVu Sans Mono',consolas,'Courier New',monospace\"><span style=\"font-weight: bold\">Model: \"decoder\"</span>\n",
       "</pre>\n"
      ],
      "text/plain": [
       "\u001b[1mModel: \"decoder\"\u001b[0m\n"
      ]
     },
     "metadata": {},
     "output_type": "display_data"
    },
    {
     "data": {
      "text/html": [
       "<pre style=\"white-space:pre;overflow-x:auto;line-height:normal;font-family:Menlo,'DejaVu Sans Mono',consolas,'Courier New',monospace\">┏━━━━━━━━━━━━━━━━━━━━━━━━━━━━━━━━━┳━━━━━━━━━━━━━━━━━━━━━━━━┳━━━━━━━━━━━━━━━┓\n",
       "┃<span style=\"font-weight: bold\"> Layer (type)                    </span>┃<span style=\"font-weight: bold\"> Output Shape           </span>┃<span style=\"font-weight: bold\">       Param # </span>┃\n",
       "┡━━━━━━━━━━━━━━━━━━━━━━━━━━━━━━━━━╇━━━━━━━━━━━━━━━━━━━━━━━━╇━━━━━━━━━━━━━━━┩\n",
       "│ input_layer_1 (<span style=\"color: #0087ff; text-decoration-color: #0087ff\">InputLayer</span>)      │ (<span style=\"color: #00d7ff; text-decoration-color: #00d7ff\">None</span>, <span style=\"color: #00af00; text-decoration-color: #00af00\">2</span>)              │             <span style=\"color: #00af00; text-decoration-color: #00af00\">0</span> │\n",
       "├─────────────────────────────────┼────────────────────────┼───────────────┤\n",
       "│ dense_9 (<span style=\"color: #0087ff; text-decoration-color: #0087ff\">Dense</span>)                 │ (<span style=\"color: #00d7ff; text-decoration-color: #00d7ff\">None</span>, <span style=\"color: #00af00; text-decoration-color: #00af00\">4</span>)              │            <span style=\"color: #00af00; text-decoration-color: #00af00\">12</span> │\n",
       "├─────────────────────────────────┼────────────────────────┼───────────────┤\n",
       "│ dense_10 (<span style=\"color: #0087ff; text-decoration-color: #0087ff\">Dense</span>)                │ (<span style=\"color: #00d7ff; text-decoration-color: #00d7ff\">None</span>, <span style=\"color: #00af00; text-decoration-color: #00af00\">8</span>)              │            <span style=\"color: #00af00; text-decoration-color: #00af00\">40</span> │\n",
       "├─────────────────────────────────┼────────────────────────┼───────────────┤\n",
       "│ dense_11 (<span style=\"color: #0087ff; text-decoration-color: #0087ff\">Dense</span>)                │ (<span style=\"color: #00d7ff; text-decoration-color: #00d7ff\">None</span>, <span style=\"color: #00af00; text-decoration-color: #00af00\">16</span>)             │           <span style=\"color: #00af00; text-decoration-color: #00af00\">144</span> │\n",
       "├─────────────────────────────────┼────────────────────────┼───────────────┤\n",
       "│ dense_12 (<span style=\"color: #0087ff; text-decoration-color: #0087ff\">Dense</span>)                │ (<span style=\"color: #00d7ff; text-decoration-color: #00d7ff\">None</span>, <span style=\"color: #00af00; text-decoration-color: #00af00\">32</span>)             │           <span style=\"color: #00af00; text-decoration-color: #00af00\">544</span> │\n",
       "├─────────────────────────────────┼────────────────────────┼───────────────┤\n",
       "│ dense_13 (<span style=\"color: #0087ff; text-decoration-color: #0087ff\">Dense</span>)                │ (<span style=\"color: #00d7ff; text-decoration-color: #00d7ff\">None</span>, <span style=\"color: #00af00; text-decoration-color: #00af00\">64</span>)             │         <span style=\"color: #00af00; text-decoration-color: #00af00\">2,112</span> │\n",
       "├─────────────────────────────────┼────────────────────────┼───────────────┤\n",
       "│ dense_14 (<span style=\"color: #0087ff; text-decoration-color: #0087ff\">Dense</span>)                │ (<span style=\"color: #00d7ff; text-decoration-color: #00d7ff\">None</span>, <span style=\"color: #00af00; text-decoration-color: #00af00\">128</span>)            │         <span style=\"color: #00af00; text-decoration-color: #00af00\">8,320</span> │\n",
       "├─────────────────────────────────┼────────────────────────┼───────────────┤\n",
       "│ dense_15 (<span style=\"color: #0087ff; text-decoration-color: #0087ff\">Dense</span>)                │ (<span style=\"color: #00d7ff; text-decoration-color: #00d7ff\">None</span>, <span style=\"color: #00af00; text-decoration-color: #00af00\">256</span>)            │        <span style=\"color: #00af00; text-decoration-color: #00af00\">33,024</span> │\n",
       "├─────────────────────────────────┼────────────────────────┼───────────────┤\n",
       "│ dense_16 (<span style=\"color: #0087ff; text-decoration-color: #0087ff\">Dense</span>)                │ (<span style=\"color: #00d7ff; text-decoration-color: #00d7ff\">None</span>, <span style=\"color: #00af00; text-decoration-color: #00af00\">512</span>)            │       <span style=\"color: #00af00; text-decoration-color: #00af00\">131,584</span> │\n",
       "├─────────────────────────────────┼────────────────────────┼───────────────┤\n",
       "│ dense_17 (<span style=\"color: #0087ff; text-decoration-color: #0087ff\">Dense</span>)                │ (<span style=\"color: #00d7ff; text-decoration-color: #00d7ff\">None</span>, <span style=\"color: #00af00; text-decoration-color: #00af00\">1024</span>)           │       <span style=\"color: #00af00; text-decoration-color: #00af00\">525,312</span> │\n",
       "├─────────────────────────────────┼────────────────────────┼───────────────┤\n",
       "│ dense_18 (<span style=\"color: #0087ff; text-decoration-color: #0087ff\">Dense</span>)                │ (<span style=\"color: #00d7ff; text-decoration-color: #00d7ff\">None</span>, <span style=\"color: #00af00; text-decoration-color: #00af00\">3178</span>)           │     <span style=\"color: #00af00; text-decoration-color: #00af00\">3,257,450</span> │\n",
       "└─────────────────────────────────┴────────────────────────┴───────────────┘\n",
       "</pre>\n"
      ],
      "text/plain": [
       "┏━━━━━━━━━━━━━━━━━━━━━━━━━━━━━━━━━┳━━━━━━━━━━━━━━━━━━━━━━━━┳━━━━━━━━━━━━━━━┓\n",
       "┃\u001b[1m \u001b[0m\u001b[1mLayer (type)                   \u001b[0m\u001b[1m \u001b[0m┃\u001b[1m \u001b[0m\u001b[1mOutput Shape          \u001b[0m\u001b[1m \u001b[0m┃\u001b[1m \u001b[0m\u001b[1m      Param #\u001b[0m\u001b[1m \u001b[0m┃\n",
       "┡━━━━━━━━━━━━━━━━━━━━━━━━━━━━━━━━━╇━━━━━━━━━━━━━━━━━━━━━━━━╇━━━━━━━━━━━━━━━┩\n",
       "│ input_layer_1 (\u001b[38;5;33mInputLayer\u001b[0m)      │ (\u001b[38;5;45mNone\u001b[0m, \u001b[38;5;34m2\u001b[0m)              │             \u001b[38;5;34m0\u001b[0m │\n",
       "├─────────────────────────────────┼────────────────────────┼───────────────┤\n",
       "│ dense_9 (\u001b[38;5;33mDense\u001b[0m)                 │ (\u001b[38;5;45mNone\u001b[0m, \u001b[38;5;34m4\u001b[0m)              │            \u001b[38;5;34m12\u001b[0m │\n",
       "├─────────────────────────────────┼────────────────────────┼───────────────┤\n",
       "│ dense_10 (\u001b[38;5;33mDense\u001b[0m)                │ (\u001b[38;5;45mNone\u001b[0m, \u001b[38;5;34m8\u001b[0m)              │            \u001b[38;5;34m40\u001b[0m │\n",
       "├─────────────────────────────────┼────────────────────────┼───────────────┤\n",
       "│ dense_11 (\u001b[38;5;33mDense\u001b[0m)                │ (\u001b[38;5;45mNone\u001b[0m, \u001b[38;5;34m16\u001b[0m)             │           \u001b[38;5;34m144\u001b[0m │\n",
       "├─────────────────────────────────┼────────────────────────┼───────────────┤\n",
       "│ dense_12 (\u001b[38;5;33mDense\u001b[0m)                │ (\u001b[38;5;45mNone\u001b[0m, \u001b[38;5;34m32\u001b[0m)             │           \u001b[38;5;34m544\u001b[0m │\n",
       "├─────────────────────────────────┼────────────────────────┼───────────────┤\n",
       "│ dense_13 (\u001b[38;5;33mDense\u001b[0m)                │ (\u001b[38;5;45mNone\u001b[0m, \u001b[38;5;34m64\u001b[0m)             │         \u001b[38;5;34m2,112\u001b[0m │\n",
       "├─────────────────────────────────┼────────────────────────┼───────────────┤\n",
       "│ dense_14 (\u001b[38;5;33mDense\u001b[0m)                │ (\u001b[38;5;45mNone\u001b[0m, \u001b[38;5;34m128\u001b[0m)            │         \u001b[38;5;34m8,320\u001b[0m │\n",
       "├─────────────────────────────────┼────────────────────────┼───────────────┤\n",
       "│ dense_15 (\u001b[38;5;33mDense\u001b[0m)                │ (\u001b[38;5;45mNone\u001b[0m, \u001b[38;5;34m256\u001b[0m)            │        \u001b[38;5;34m33,024\u001b[0m │\n",
       "├─────────────────────────────────┼────────────────────────┼───────────────┤\n",
       "│ dense_16 (\u001b[38;5;33mDense\u001b[0m)                │ (\u001b[38;5;45mNone\u001b[0m, \u001b[38;5;34m512\u001b[0m)            │       \u001b[38;5;34m131,584\u001b[0m │\n",
       "├─────────────────────────────────┼────────────────────────┼───────────────┤\n",
       "│ dense_17 (\u001b[38;5;33mDense\u001b[0m)                │ (\u001b[38;5;45mNone\u001b[0m, \u001b[38;5;34m1024\u001b[0m)           │       \u001b[38;5;34m525,312\u001b[0m │\n",
       "├─────────────────────────────────┼────────────────────────┼───────────────┤\n",
       "│ dense_18 (\u001b[38;5;33mDense\u001b[0m)                │ (\u001b[38;5;45mNone\u001b[0m, \u001b[38;5;34m3178\u001b[0m)           │     \u001b[38;5;34m3,257,450\u001b[0m │\n",
       "└─────────────────────────────────┴────────────────────────┴───────────────┘\n"
      ]
     },
     "metadata": {},
     "output_type": "display_data"
    },
    {
     "data": {
      "text/html": [
       "<pre style=\"white-space:pre;overflow-x:auto;line-height:normal;font-family:Menlo,'DejaVu Sans Mono',consolas,'Courier New',monospace\"><span style=\"font-weight: bold\"> Total params: </span><span style=\"color: #00af00; text-decoration-color: #00af00\">3,958,542</span> (15.10 MB)\n",
       "</pre>\n"
      ],
      "text/plain": [
       "\u001b[1m Total params: \u001b[0m\u001b[38;5;34m3,958,542\u001b[0m (15.10 MB)\n"
      ]
     },
     "metadata": {},
     "output_type": "display_data"
    },
    {
     "data": {
      "text/html": [
       "<pre style=\"white-space:pre;overflow-x:auto;line-height:normal;font-family:Menlo,'DejaVu Sans Mono',consolas,'Courier New',monospace\"><span style=\"font-weight: bold\"> Trainable params: </span><span style=\"color: #00af00; text-decoration-color: #00af00\">3,958,542</span> (15.10 MB)\n",
       "</pre>\n"
      ],
      "text/plain": [
       "\u001b[1m Trainable params: \u001b[0m\u001b[38;5;34m3,958,542\u001b[0m (15.10 MB)\n"
      ]
     },
     "metadata": {},
     "output_type": "display_data"
    },
    {
     "data": {
      "text/html": [
       "<pre style=\"white-space:pre;overflow-x:auto;line-height:normal;font-family:Menlo,'DejaVu Sans Mono',consolas,'Courier New',monospace\"><span style=\"font-weight: bold\"> Non-trainable params: </span><span style=\"color: #00af00; text-decoration-color: #00af00\">0</span> (0.00 B)\n",
       "</pre>\n"
      ],
      "text/plain": [
       "\u001b[1m Non-trainable params: \u001b[0m\u001b[38;5;34m0\u001b[0m (0.00 B)\n"
      ]
     },
     "metadata": {},
     "output_type": "display_data"
    }
   ],
   "source": [
    "decoder.summary()"
   ]
  },
  {
   "cell_type": "code",
   "execution_count": 8,
   "id": "84ac76b0-6485-4cf7-b0ff-bf175fe27755",
   "metadata": {},
   "outputs": [
    {
     "data": {
      "text/html": [
       "<pre style=\"white-space:pre;overflow-x:auto;line-height:normal;font-family:Menlo,'DejaVu Sans Mono',consolas,'Courier New',monospace\"><span style=\"font-weight: bold\">Model: \"encoder\"</span>\n",
       "</pre>\n"
      ],
      "text/plain": [
       "\u001b[1mModel: \"encoder\"\u001b[0m\n"
      ]
     },
     "metadata": {},
     "output_type": "display_data"
    },
    {
     "data": {
      "text/html": [
       "<pre style=\"white-space:pre;overflow-x:auto;line-height:normal;font-family:Menlo,'DejaVu Sans Mono',consolas,'Courier New',monospace\">┏━━━━━━━━━━━━━━━━━━━━━┳━━━━━━━━━━━━━━━━━━━┳━━━━━━━━━━━━┳━━━━━━━━━━━━━━━━━━━┓\n",
       "┃<span style=\"font-weight: bold\"> Layer (type)        </span>┃<span style=\"font-weight: bold\"> Output Shape      </span>┃<span style=\"font-weight: bold\">    Param # </span>┃<span style=\"font-weight: bold\"> Connected to      </span>┃\n",
       "┡━━━━━━━━━━━━━━━━━━━━━╇━━━━━━━━━━━━━━━━━━━╇━━━━━━━━━━━━╇━━━━━━━━━━━━━━━━━━━┩\n",
       "│ input_layer         │ (<span style=\"color: #00d7ff; text-decoration-color: #00d7ff\">None</span>, <span style=\"color: #00af00; text-decoration-color: #00af00\">3178</span>)      │          <span style=\"color: #00af00; text-decoration-color: #00af00\">0</span> │ -                 │\n",
       "│ (<span style=\"color: #0087ff; text-decoration-color: #0087ff\">InputLayer</span>)        │                   │            │                   │\n",
       "├─────────────────────┼───────────────────┼────────────┼───────────────────┤\n",
       "│ dense (<span style=\"color: #0087ff; text-decoration-color: #0087ff\">Dense</span>)       │ (<span style=\"color: #00d7ff; text-decoration-color: #00d7ff\">None</span>, <span style=\"color: #00af00; text-decoration-color: #00af00\">1589</span>)      │  <span style=\"color: #00af00; text-decoration-color: #00af00\">5,051,431</span> │ input_layer[<span style=\"color: #00af00; text-decoration-color: #00af00\">0</span>][<span style=\"color: #00af00; text-decoration-color: #00af00\">0</span>] │\n",
       "├─────────────────────┼───────────────────┼────────────┼───────────────────┤\n",
       "│ dense_1 (<span style=\"color: #0087ff; text-decoration-color: #0087ff\">Dense</span>)     │ (<span style=\"color: #00d7ff; text-decoration-color: #00d7ff\">None</span>, <span style=\"color: #00af00; text-decoration-color: #00af00\">794</span>)       │  <span style=\"color: #00af00; text-decoration-color: #00af00\">1,262,460</span> │ dense[<span style=\"color: #00af00; text-decoration-color: #00af00\">0</span>][<span style=\"color: #00af00; text-decoration-color: #00af00\">0</span>]       │\n",
       "├─────────────────────┼───────────────────┼────────────┼───────────────────┤\n",
       "│ dense_2 (<span style=\"color: #0087ff; text-decoration-color: #0087ff\">Dense</span>)     │ (<span style=\"color: #00d7ff; text-decoration-color: #00d7ff\">None</span>, <span style=\"color: #00af00; text-decoration-color: #00af00\">397</span>)       │    <span style=\"color: #00af00; text-decoration-color: #00af00\">315,615</span> │ dense_1[<span style=\"color: #00af00; text-decoration-color: #00af00\">0</span>][<span style=\"color: #00af00; text-decoration-color: #00af00\">0</span>]     │\n",
       "├─────────────────────┼───────────────────┼────────────┼───────────────────┤\n",
       "│ dense_3 (<span style=\"color: #0087ff; text-decoration-color: #0087ff\">Dense</span>)     │ (<span style=\"color: #00d7ff; text-decoration-color: #00d7ff\">None</span>, <span style=\"color: #00af00; text-decoration-color: #00af00\">198</span>)       │     <span style=\"color: #00af00; text-decoration-color: #00af00\">78,804</span> │ dense_2[<span style=\"color: #00af00; text-decoration-color: #00af00\">0</span>][<span style=\"color: #00af00; text-decoration-color: #00af00\">0</span>]     │\n",
       "├─────────────────────┼───────────────────┼────────────┼───────────────────┤\n",
       "│ dense_4 (<span style=\"color: #0087ff; text-decoration-color: #0087ff\">Dense</span>)     │ (<span style=\"color: #00d7ff; text-decoration-color: #00d7ff\">None</span>, <span style=\"color: #00af00; text-decoration-color: #00af00\">99</span>)        │     <span style=\"color: #00af00; text-decoration-color: #00af00\">19,701</span> │ dense_3[<span style=\"color: #00af00; text-decoration-color: #00af00\">0</span>][<span style=\"color: #00af00; text-decoration-color: #00af00\">0</span>]     │\n",
       "├─────────────────────┼───────────────────┼────────────┼───────────────────┤\n",
       "│ dense_5 (<span style=\"color: #0087ff; text-decoration-color: #0087ff\">Dense</span>)     │ (<span style=\"color: #00d7ff; text-decoration-color: #00d7ff\">None</span>, <span style=\"color: #00af00; text-decoration-color: #00af00\">49</span>)        │      <span style=\"color: #00af00; text-decoration-color: #00af00\">4,900</span> │ dense_4[<span style=\"color: #00af00; text-decoration-color: #00af00\">0</span>][<span style=\"color: #00af00; text-decoration-color: #00af00\">0</span>]     │\n",
       "├─────────────────────┼───────────────────┼────────────┼───────────────────┤\n",
       "│ dense_6 (<span style=\"color: #0087ff; text-decoration-color: #0087ff\">Dense</span>)     │ (<span style=\"color: #00d7ff; text-decoration-color: #00d7ff\">None</span>, <span style=\"color: #00af00; text-decoration-color: #00af00\">24</span>)        │      <span style=\"color: #00af00; text-decoration-color: #00af00\">1,200</span> │ dense_5[<span style=\"color: #00af00; text-decoration-color: #00af00\">0</span>][<span style=\"color: #00af00; text-decoration-color: #00af00\">0</span>]     │\n",
       "├─────────────────────┼───────────────────┼────────────┼───────────────────┤\n",
       "│ dense_7 (<span style=\"color: #0087ff; text-decoration-color: #0087ff\">Dense</span>)     │ (<span style=\"color: #00d7ff; text-decoration-color: #00d7ff\">None</span>, <span style=\"color: #00af00; text-decoration-color: #00af00\">12</span>)        │        <span style=\"color: #00af00; text-decoration-color: #00af00\">300</span> │ dense_6[<span style=\"color: #00af00; text-decoration-color: #00af00\">0</span>][<span style=\"color: #00af00; text-decoration-color: #00af00\">0</span>]     │\n",
       "├─────────────────────┼───────────────────┼────────────┼───────────────────┤\n",
       "│ dense_8 (<span style=\"color: #0087ff; text-decoration-color: #0087ff\">Dense</span>)     │ (<span style=\"color: #00d7ff; text-decoration-color: #00d7ff\">None</span>, <span style=\"color: #00af00; text-decoration-color: #00af00\">6</span>)         │         <span style=\"color: #00af00; text-decoration-color: #00af00\">78</span> │ dense_7[<span style=\"color: #00af00; text-decoration-color: #00af00\">0</span>][<span style=\"color: #00af00; text-decoration-color: #00af00\">0</span>]     │\n",
       "├─────────────────────┼───────────────────┼────────────┼───────────────────┤\n",
       "│ z_mean (<span style=\"color: #0087ff; text-decoration-color: #0087ff\">Dense</span>)      │ (<span style=\"color: #00d7ff; text-decoration-color: #00d7ff\">None</span>, <span style=\"color: #00af00; text-decoration-color: #00af00\">2</span>)         │         <span style=\"color: #00af00; text-decoration-color: #00af00\">14</span> │ dense_8[<span style=\"color: #00af00; text-decoration-color: #00af00\">0</span>][<span style=\"color: #00af00; text-decoration-color: #00af00\">0</span>]     │\n",
       "├─────────────────────┼───────────────────┼────────────┼───────────────────┤\n",
       "│ z_log_var (<span style=\"color: #0087ff; text-decoration-color: #0087ff\">Dense</span>)   │ (<span style=\"color: #00d7ff; text-decoration-color: #00d7ff\">None</span>, <span style=\"color: #00af00; text-decoration-color: #00af00\">2</span>)         │         <span style=\"color: #00af00; text-decoration-color: #00af00\">14</span> │ dense_8[<span style=\"color: #00af00; text-decoration-color: #00af00\">0</span>][<span style=\"color: #00af00; text-decoration-color: #00af00\">0</span>]     │\n",
       "├─────────────────────┼───────────────────┼────────────┼───────────────────┤\n",
       "│ sampling (<span style=\"color: #0087ff; text-decoration-color: #0087ff\">Sampling</span>) │ (<span style=\"color: #00d7ff; text-decoration-color: #00d7ff\">None</span>, <span style=\"color: #00af00; text-decoration-color: #00af00\">2</span>)         │          <span style=\"color: #00af00; text-decoration-color: #00af00\">0</span> │ z_mean[<span style=\"color: #00af00; text-decoration-color: #00af00\">0</span>][<span style=\"color: #00af00; text-decoration-color: #00af00\">0</span>],     │\n",
       "│                     │                   │            │ z_log_var[<span style=\"color: #00af00; text-decoration-color: #00af00\">0</span>][<span style=\"color: #00af00; text-decoration-color: #00af00\">0</span>]   │\n",
       "└─────────────────────┴───────────────────┴────────────┴───────────────────┘\n",
       "</pre>\n"
      ],
      "text/plain": [
       "┏━━━━━━━━━━━━━━━━━━━━━┳━━━━━━━━━━━━━━━━━━━┳━━━━━━━━━━━━┳━━━━━━━━━━━━━━━━━━━┓\n",
       "┃\u001b[1m \u001b[0m\u001b[1mLayer (type)       \u001b[0m\u001b[1m \u001b[0m┃\u001b[1m \u001b[0m\u001b[1mOutput Shape     \u001b[0m\u001b[1m \u001b[0m┃\u001b[1m \u001b[0m\u001b[1m   Param #\u001b[0m\u001b[1m \u001b[0m┃\u001b[1m \u001b[0m\u001b[1mConnected to     \u001b[0m\u001b[1m \u001b[0m┃\n",
       "┡━━━━━━━━━━━━━━━━━━━━━╇━━━━━━━━━━━━━━━━━━━╇━━━━━━━━━━━━╇━━━━━━━━━━━━━━━━━━━┩\n",
       "│ input_layer         │ (\u001b[38;5;45mNone\u001b[0m, \u001b[38;5;34m3178\u001b[0m)      │          \u001b[38;5;34m0\u001b[0m │ -                 │\n",
       "│ (\u001b[38;5;33mInputLayer\u001b[0m)        │                   │            │                   │\n",
       "├─────────────────────┼───────────────────┼────────────┼───────────────────┤\n",
       "│ dense (\u001b[38;5;33mDense\u001b[0m)       │ (\u001b[38;5;45mNone\u001b[0m, \u001b[38;5;34m1589\u001b[0m)      │  \u001b[38;5;34m5,051,431\u001b[0m │ input_layer[\u001b[38;5;34m0\u001b[0m][\u001b[38;5;34m0\u001b[0m] │\n",
       "├─────────────────────┼───────────────────┼────────────┼───────────────────┤\n",
       "│ dense_1 (\u001b[38;5;33mDense\u001b[0m)     │ (\u001b[38;5;45mNone\u001b[0m, \u001b[38;5;34m794\u001b[0m)       │  \u001b[38;5;34m1,262,460\u001b[0m │ dense[\u001b[38;5;34m0\u001b[0m][\u001b[38;5;34m0\u001b[0m]       │\n",
       "├─────────────────────┼───────────────────┼────────────┼───────────────────┤\n",
       "│ dense_2 (\u001b[38;5;33mDense\u001b[0m)     │ (\u001b[38;5;45mNone\u001b[0m, \u001b[38;5;34m397\u001b[0m)       │    \u001b[38;5;34m315,615\u001b[0m │ dense_1[\u001b[38;5;34m0\u001b[0m][\u001b[38;5;34m0\u001b[0m]     │\n",
       "├─────────────────────┼───────────────────┼────────────┼───────────────────┤\n",
       "│ dense_3 (\u001b[38;5;33mDense\u001b[0m)     │ (\u001b[38;5;45mNone\u001b[0m, \u001b[38;5;34m198\u001b[0m)       │     \u001b[38;5;34m78,804\u001b[0m │ dense_2[\u001b[38;5;34m0\u001b[0m][\u001b[38;5;34m0\u001b[0m]     │\n",
       "├─────────────────────┼───────────────────┼────────────┼───────────────────┤\n",
       "│ dense_4 (\u001b[38;5;33mDense\u001b[0m)     │ (\u001b[38;5;45mNone\u001b[0m, \u001b[38;5;34m99\u001b[0m)        │     \u001b[38;5;34m19,701\u001b[0m │ dense_3[\u001b[38;5;34m0\u001b[0m][\u001b[38;5;34m0\u001b[0m]     │\n",
       "├─────────────────────┼───────────────────┼────────────┼───────────────────┤\n",
       "│ dense_5 (\u001b[38;5;33mDense\u001b[0m)     │ (\u001b[38;5;45mNone\u001b[0m, \u001b[38;5;34m49\u001b[0m)        │      \u001b[38;5;34m4,900\u001b[0m │ dense_4[\u001b[38;5;34m0\u001b[0m][\u001b[38;5;34m0\u001b[0m]     │\n",
       "├─────────────────────┼───────────────────┼────────────┼───────────────────┤\n",
       "│ dense_6 (\u001b[38;5;33mDense\u001b[0m)     │ (\u001b[38;5;45mNone\u001b[0m, \u001b[38;5;34m24\u001b[0m)        │      \u001b[38;5;34m1,200\u001b[0m │ dense_5[\u001b[38;5;34m0\u001b[0m][\u001b[38;5;34m0\u001b[0m]     │\n",
       "├─────────────────────┼───────────────────┼────────────┼───────────────────┤\n",
       "│ dense_7 (\u001b[38;5;33mDense\u001b[0m)     │ (\u001b[38;5;45mNone\u001b[0m, \u001b[38;5;34m12\u001b[0m)        │        \u001b[38;5;34m300\u001b[0m │ dense_6[\u001b[38;5;34m0\u001b[0m][\u001b[38;5;34m0\u001b[0m]     │\n",
       "├─────────────────────┼───────────────────┼────────────┼───────────────────┤\n",
       "│ dense_8 (\u001b[38;5;33mDense\u001b[0m)     │ (\u001b[38;5;45mNone\u001b[0m, \u001b[38;5;34m6\u001b[0m)         │         \u001b[38;5;34m78\u001b[0m │ dense_7[\u001b[38;5;34m0\u001b[0m][\u001b[38;5;34m0\u001b[0m]     │\n",
       "├─────────────────────┼───────────────────┼────────────┼───────────────────┤\n",
       "│ z_mean (\u001b[38;5;33mDense\u001b[0m)      │ (\u001b[38;5;45mNone\u001b[0m, \u001b[38;5;34m2\u001b[0m)         │         \u001b[38;5;34m14\u001b[0m │ dense_8[\u001b[38;5;34m0\u001b[0m][\u001b[38;5;34m0\u001b[0m]     │\n",
       "├─────────────────────┼───────────────────┼────────────┼───────────────────┤\n",
       "│ z_log_var (\u001b[38;5;33mDense\u001b[0m)   │ (\u001b[38;5;45mNone\u001b[0m, \u001b[38;5;34m2\u001b[0m)         │         \u001b[38;5;34m14\u001b[0m │ dense_8[\u001b[38;5;34m0\u001b[0m][\u001b[38;5;34m0\u001b[0m]     │\n",
       "├─────────────────────┼───────────────────┼────────────┼───────────────────┤\n",
       "│ sampling (\u001b[38;5;33mSampling\u001b[0m) │ (\u001b[38;5;45mNone\u001b[0m, \u001b[38;5;34m2\u001b[0m)         │          \u001b[38;5;34m0\u001b[0m │ z_mean[\u001b[38;5;34m0\u001b[0m][\u001b[38;5;34m0\u001b[0m],     │\n",
       "│                     │                   │            │ z_log_var[\u001b[38;5;34m0\u001b[0m][\u001b[38;5;34m0\u001b[0m]   │\n",
       "└─────────────────────┴───────────────────┴────────────┴───────────────────┘\n"
      ]
     },
     "metadata": {},
     "output_type": "display_data"
    },
    {
     "data": {
      "text/html": [
       "<pre style=\"white-space:pre;overflow-x:auto;line-height:normal;font-family:Menlo,'DejaVu Sans Mono',consolas,'Courier New',monospace\"><span style=\"font-weight: bold\"> Total params: </span><span style=\"color: #00af00; text-decoration-color: #00af00\">6,734,517</span> (25.69 MB)\n",
       "</pre>\n"
      ],
      "text/plain": [
       "\u001b[1m Total params: \u001b[0m\u001b[38;5;34m6,734,517\u001b[0m (25.69 MB)\n"
      ]
     },
     "metadata": {},
     "output_type": "display_data"
    },
    {
     "data": {
      "text/html": [
       "<pre style=\"white-space:pre;overflow-x:auto;line-height:normal;font-family:Menlo,'DejaVu Sans Mono',consolas,'Courier New',monospace\"><span style=\"font-weight: bold\"> Trainable params: </span><span style=\"color: #00af00; text-decoration-color: #00af00\">6,734,517</span> (25.69 MB)\n",
       "</pre>\n"
      ],
      "text/plain": [
       "\u001b[1m Trainable params: \u001b[0m\u001b[38;5;34m6,734,517\u001b[0m (25.69 MB)\n"
      ]
     },
     "metadata": {},
     "output_type": "display_data"
    },
    {
     "data": {
      "text/html": [
       "<pre style=\"white-space:pre;overflow-x:auto;line-height:normal;font-family:Menlo,'DejaVu Sans Mono',consolas,'Courier New',monospace\"><span style=\"font-weight: bold\"> Non-trainable params: </span><span style=\"color: #00af00; text-decoration-color: #00af00\">0</span> (0.00 B)\n",
       "</pre>\n"
      ],
      "text/plain": [
       "\u001b[1m Non-trainable params: \u001b[0m\u001b[38;5;34m0\u001b[0m (0.00 B)\n"
      ]
     },
     "metadata": {},
     "output_type": "display_data"
    }
   ],
   "source": [
    "vae.encoder.summary()"
   ]
  },
  {
   "cell_type": "markdown",
   "id": "c34c59c8-126a-42e3-9ee3-5631f54feb19",
   "metadata": {},
   "source": [
    "Train VAE"
   ]
  },
  {
   "cell_type": "code",
   "execution_count": 9,
   "id": "9c8d574c-fbd7-4277-961b-3117f2d6e6e7",
   "metadata": {},
   "outputs": [
    {
     "name": "stderr",
     "output_type": "stream",
     "text": [
      "2024-04-21 02:31:28.720665: I tensorflow/core/grappler/optimizers/custom_graph_optimizer_registry.cc:117] Plugin optimizer for device_type GPU is enabled.\n"
     ]
    }
   ],
   "source": [
    "hist = vae.fit(X, epochs = nEpochs, batch_size=batchSize, verbose =False)"
   ]
  },
  {
   "cell_type": "code",
   "execution_count": 10,
   "id": "b5789a8e-dcde-4e7c-92dd-747fc3cbbba7",
   "metadata": {},
   "outputs": [],
   "source": [
    "vae.save_weights(os.getcwd()+'/vae_coauthors' + '.weights.h5')\n",
    "vae.load_weights(os.getcwd()+'/vae_coauthors' + '.weights.h5')"
   ]
  },
  {
   "cell_type": "code",
   "execution_count": 31,
   "id": "2f145744-30bb-4cd7-9446-67599b0e21db",
   "metadata": {},
   "outputs": [
    {
     "name": "stdout",
     "output_type": "stream",
     "text": [
      "dict_keys(['architecture_loss', 'kl_loss', 'reconstruction_loss', 'total_loss'])\n"
     ]
    },
    {
     "data": {
      "text/plain": [
       "Text(0, 0.5, 'Architecture loss')"
      ]
     },
     "execution_count": 31,
     "metadata": {},
     "output_type": "execute_result"
    },
    {
     "data": {
      "image/png": "[encoded data removed]",
      "text/plain": [
       "<Figure size 640x480 with 1 Axes>"
      ]
     },
     "metadata": {},
     "output_type": "display_data"
    },
    {
     "data": {
      "image/png": "[encoded data removed]",
      "text/plain": [
       "<Figure size 640x480 with 1 Axes>"
      ]
     },
     "metadata": {},
     "output_type": "display_data"
    }
   ],
   "source": [
    "print(hist.history.keys())\n",
    "x_range = range(len(hist.history['total_loss']))\n",
    "plt.plot(x_range, hist.history['reconstruction_loss'])\n",
    "plt.xlabel('Epoch')\n",
    "plt.ylabel('Reconstruction loss')\n",
    "plt.figure()\n",
    "plt.plot(x_range, hist.history['architecture_loss'])\n",
    "plt.xlabel('Epoch')\n",
    "plt.ylabel('Architecture loss')"
   ]
  },
  {
   "cell_type": "code",
   "execution_count": 12,
   "id": "f6abdbdb-c94f-4a88-8eb0-85b733fd3894",
   "metadata": {},
   "outputs": [],
   "source": [
    "_,_,Z = vae.encoder(X)"
   ]
  },
  {
   "cell_type": "markdown",
   "id": "15194c1f-939e-4c4b-8efc-7b19dc7f6353",
   "metadata": {},
   "source": [
    "Apply c-means"
   ]
  },
  {
   "cell_type": "code",
   "execution_count": 13,
   "id": "78dfb7f9-1f25-451e-be10-535f6265211f",
   "metadata": {},
   "outputs": [],
   "source": [
    "maxNCenters = 100\n",
    "m = 10\n",
    "losses = []\n",
    "memberships = []\n",
    "centroids = []\n",
    "for nCenters in range(2,maxNCenters+1):\n",
    "  cntr, u, u0, d, jm, p, fpc = fuzz.cluster.cmeans(\n",
    "          Z.numpy().T, nCenters, m, error=0.005, maxiter=1000, init=None)\n",
    "  memberships.append(u)\n",
    "  centroids.append(cntr)\n",
    "  sse = 0\n",
    "  for i in range(len(Z)):\n",
    "    zLoc = np.asarray(Z[i])\n",
    "    for j in range(nCenters):\n",
    "      cLoc = np.asarray(cntr[j])\n",
    "      sse += u[j][i] * np.sum(np.square(zLoc - cLoc))\n",
    "  losses.append(sse)\n",
    "  #losses.append(np.mean(np.square(d)))\n",
    "with open(os.getcwd() + '/memberships_coauthor/' + f'_m={m}.pkl','wb') as f:\n",
    "  pickle.dump([memberships, centroids], f)"
   ]
  },
  {
   "cell_type": "code",
   "execution_count": 14,
   "id": "3e09838f-9919-4c99-9475-50d406b3150d",
   "metadata": {},
   "outputs": [
    {
     "data": {
      "image/png": "[encoded data removed]",
      "text/plain": [
       "<Figure size 640x480 with 1 Axes>"
      ]
     },
     "metadata": {},
     "output_type": "display_data"
    }
   ],
   "source": [
    "x_range = [i for i in range(2,maxNCenters+1)]\n",
    "plt.rcParams.update({'font.size': 20, 'lines.linewidth':3})\n",
    "plt.plot(x_range,losses)\n",
    "plt.xlabel(\"Number of clusters\")\n",
    "plt.ylabel(\"SSE\")\n",
    "plt.savefig(os.getcwd() + '/figures_coauthor/'+ f'_sse_cmeans_m={m}.png', dpi=450, bbox_inches = \"tight\")"
   ]
  },
  {
   "cell_type": "code",
   "execution_count": 15,
   "id": "e23f6a38-4975-4063-90e0-27771935208a",
   "metadata": {},
   "outputs": [
    {
     "name": "stdout",
     "output_type": "stream",
     "text": [
      "['ABRAMSON, G' 'KUPERMAN, M' 'ACEBRON, J' ... 'HUANG, Z' 'ZHU, J'\n",
      " 'ZIMMERMANN, M']\n"
     ]
    }
   ],
   "source": [
    "n_clusters = 20\n",
    "members = [[] for i in range(n_clusters)]\n",
    "members_classes = [[] for i in range(n_clusters)]\n",
    "clusters = np.argmax(memberships[n_clusters-2].T, axis = 1)\n",
    "print(node_names)\n",
    "node_names_array = np.array(node_names)\n",
    "for i in range(len(clusters)):\n",
    "  members[clusters[i]].append(i)\n",
    "  members_classes[clusters[i]].append(node_names[i])"
   ]
  },
  {
   "cell_type": "code",
   "execution_count": 16,
   "id": "2bc5a117-c1bc-45a0-b323-630b8356a199",
   "metadata": {},
   "outputs": [],
   "source": [
    "file = open(os.getcwd()  + '/list_clusters_coauthor/'+'_'+ str(n_clusters) + f'_no_redundancy_m={m}.json','w')\n",
    "file.write(json.dumps(members_classes))\n",
    "file.close()"
   ]
  },
  {
   "cell_type": "code",
   "execution_count": 17,
   "id": "df531061-4475-45eb-a88c-6b4ab3d5c78f",
   "metadata": {},
   "outputs": [
    {
     "data": {
      "image/png": "[encoded data removed]",
      "text/plain": [
       "<Figure size 640x480 with 1 Axes>"
      ]
     },
     "metadata": {},
     "output_type": "display_data"
    }
   ],
   "source": [
    "import random\n",
    "y = [[] for i in range(n_clusters)]\n",
    "x = [[] for i in range(n_clusters)]\n",
    "centroid_y = []\n",
    "centroid_x = []\n",
    "hexadecimal_alphabets = '0123456789ABCDEF'\n",
    "colors = [\"#\" + ''.join([random.choice(hexadecimal_alphabets) for j in range(6)]) for i in range(n_clusters)]\n",
    "# colors = ['red','green','blue','purple','orange', 'black', 'gray', 'pink', 'yellow', 'navy']\n",
    "for i in range(n_clusters):\n",
    "  for j in members[i]:\n",
    "    y[i].append(Z[j][1])\n",
    "    x[i].append(Z[j][0])\n",
    "  centroid_y.append(centroids[n_clusters-2][i][1])\n",
    "  centroid_x.append(centroids[n_clusters-2][i][0])\n",
    "# plt.axis('off')\n",
    "plt.rcParams.update({'font.size': 7, 'lines.linewidth':3})\n",
    "for i in range(n_clusters):\n",
    "  plt.scatter([centroid_x[i]], [centroid_y[i]], color=colors[i],marker='x')\n",
    "  plt.scatter(x[i], y[i], color=colors[i])\n",
    "  # for j in range(len(x[i])):\n",
    "  #   plt.text(x[i][j], y[i][j], members_classes[i][j])\n",
    "plt.savefig(os.getcwd() +'/figures_coauthor/'+ '_' + str(n_clusters) + f'_scatter_no_redundancy_m={m}.pdf', dpi=450, bbox_inches = \"tight\")"
   ]
  },
  {
   "cell_type": "code",
   "execution_count": 18,
   "id": "f14f667d-0383-4281-9700-e7c50f69d64a",
   "metadata": {},
   "outputs": [],
   "source": [
    "thresholds = []\n",
    "i = 0.1\n",
    "while(i <= 0.5):\n",
    "  thresholds.append(round(i,2))\n",
    "  i += 0.05\n",
    "set_members = []\n",
    "for threshold in thresholds:\n",
    "  tmp_members = deepcopy(members)\n",
    "  tmp_members_classes = deepcopy(members_classes)\n",
    "  for inx, membership in enumerate(memberships[n_clusters-2]):\n",
    "    for inx2, score in enumerate(membership):\n",
    "      if(score >=  threshold and inx2 not in tmp_members[inx]):\n",
    "        tmp_members[inx].append(inx2)\n",
    "        tmp_members_classes[inx].append(node_names_array[inx2])\n",
    "  set_members.append(tmp_members_classes)\n",
    "  file = open(os.getcwd() + '/list_clusters_coauthor/'+'_' + str(n_clusters) + f'_redundancy_m={m}_' + str(threshold) + '.json','w')\n",
    "  file.write(json.dumps(tmp_members_classes))\n",
    "  file.close()"
   ]
  },
  {
   "cell_type": "code",
   "execution_count": 19,
   "id": "16015275-618a-43a7-9993-5dc17781b24a",
   "metadata": {},
   "outputs": [
    {
     "name": "stdout",
     "output_type": "stream",
     "text": [
      "13\n",
      "194\n",
      "165\n",
      "5\n",
      "140\n",
      "11\n",
      "4\n",
      "113\n",
      "12\n",
      "75\n",
      "17\n",
      "237\n",
      "13\n",
      "202\n",
      "5\n",
      "15\n",
      "139\n",
      "201\n",
      "10\n",
      "18\n"
     ]
    }
   ],
   "source": [
    "for lst in set_members[4]:\n",
    "  print(len(lst))"
   ]
  },
  {
   "cell_type": "code",
   "execution_count": 20,
   "id": "cac58cb1-37c9-4eb3-9e20-4711681f29db",
   "metadata": {},
   "outputs": [
    {
     "name": "stdout",
     "output_type": "stream",
     "text": [
      "13\n",
      "194\n",
      "165\n",
      "5\n",
      "140\n",
      "11\n",
      "4\n",
      "113\n",
      "12\n",
      "75\n",
      "17\n",
      "237\n",
      "13\n",
      "202\n",
      "5\n",
      "15\n",
      "139\n",
      "201\n",
      "10\n",
      "18\n"
     ]
    }
   ],
   "source": [
    "for member in members:\n",
    "  print(len(member))"
   ]
  },
  {
   "cell_type": "code",
   "execution_count": 21,
   "id": "13e2072f-2252-44ea-abb6-fd3086b94244",
   "metadata": {},
   "outputs": [
    {
     "name": "stdout",
     "output_type": "stream",
     "text": [
      "[0.51108836 0.51470318 0.47609381 ... 0.50618423 0.48683313 0.51869043]\n"
     ]
    }
   ],
   "source": [
    "print(memberships[0][0])"
   ]
  },
  {
   "cell_type": "code",
   "execution_count": 23,
   "id": "e418f8b1-b36c-4f53-942e-cc4a5303eff0",
   "metadata": {},
   "outputs": [
    {
     "name": "stdout",
     "output_type": "stream",
     "text": [
      "Duplicate Names and their counts:\n",
      "Total unique names: 1589\n"
     ]
    }
   ],
   "source": [
    "# Path to your JSON file\n",
    "file_path = os.getcwd() + '/list_clusters_coauthor/' + '_20_redundancy_m=10_0.1.json'\n",
    "\n",
    "# Load the JSON data from the file\n",
    "with open(file_path, 'r') as file:\n",
    "    data = json.load(file)\n",
    "\n",
    "# Dictionary to count occurrences of each name\n",
    "name_counts = {}\n",
    "\n",
    "# Loop through each list in the data\n",
    "for name_list in data:\n",
    "    for name in name_list:\n",
    "        if name in name_counts:\n",
    "            name_counts[name] += 1\n",
    "        else:\n",
    "            name_counts[name] = 1\n",
    "\n",
    "# Find and print duplicate names\n",
    "duplicates = {name: count for name, count in name_counts.items() if count > 1}\n",
    "print(\"Duplicate Names and their counts:\")\n",
    "for name, count in duplicates.items():\n",
    "    print(f\"{name}: {count}\")\n",
    "\n",
    "# Optional: Print total number of unique names\n",
    "print(\"Total unique names:\", len(name_counts))"
   ]
  },
  {
   "cell_type": "code",
   "execution_count": 27,
   "id": "7a1fe233-6c4f-4fbb-a503-4f3edbda2b49",
   "metadata": {},
   "outputs": [
    {
     "name": "stdout",
     "output_type": "stream",
     "text": [
      "Nodes connected to CHANGIZI, M:\n",
      "CHERNIAK, C\n",
      "KANG, D\n",
      "MOKHTARZADA, Z\n",
      "RODRIGUEZESTEBAN, R\n"
     ]
    }
   ],
   "source": [
    "graph = nx.read_gml('netscience.gml')\n",
    "\n",
    "# Specify the label of the node you're interested in\n",
    "target_node_name = 'CHANGIZI, M'\n",
    "\n",
    "# Finding the node with the given label (assuming labels are unique)\n",
    "target_node = None\n",
    "# Check if the node is in the graph\n",
    "if target_node_name in graph:\n",
    "    # Get all nodes connected to the specified node\n",
    "    connected_nodes = list(graph.neighbors(target_node_name))\n",
    "\n",
    "    # Print connected nodes\n",
    "    print(f\"Nodes connected to {target_node_name}:\")\n",
    "    for node in connected_nodes:\n",
    "        print(node)\n",
    "else:\n",
    "    print(f\"Node {target_node_name} not found in the graph.\")\n"
   ]
  },
  {
   "cell_type": "code",
   "execution_count": null,
   "id": "8c2b20d1-51f1-4b51-ac65-ce7e2f631a14",
   "metadata": {},
   "outputs": [],
   "source": []
  }
 ],
 "metadata": {
  "kernelspec": {
   "display_name": "Python 3 (ipykernel)",
   "language": "python",
   "name": "python3"
  },
  "language_info": {
   "codemirror_mode": {
    "name": "ipython",
    "version": 3
   },
   "file_extension": ".py",
   "mimetype": "text/x-python",
   "name": "python",
   "nbconvert_exporter": "python",
   "pygments_lexer": "ipython3",
   "version": "3.9.6"
  }
 },
 "nbformat": 4,
 "nbformat_minor": 5
}
